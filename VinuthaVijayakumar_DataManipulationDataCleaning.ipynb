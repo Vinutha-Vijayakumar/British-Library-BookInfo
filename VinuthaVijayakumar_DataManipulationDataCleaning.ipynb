{
 "cells": [
  {
   "cell_type": "markdown",
   "metadata": {},
   "source": [
    "Data_Manipulation_Data_Cleaning\n",
    "A Python project using Pandas and regular expressions to clean a dataset from the British Library, focusing on columns like 'Date of Publication,' 'Author,' 'Title,' and 'Place of Publication.' The result: a pristine dataset primed for analysis and visualization."
   ]
  },
  {
   "cell_type": "markdown",
   "metadata": {},
   "source": [
    "1. Read the csv in a data_frame."
   ]
  },
  {
   "cell_type": "code",
   "execution_count": 1,
   "metadata": {},
   "outputs": [],
   "source": [
    "import pandas as pd \n",
    "df = pd.read_csv(r'C:\\Users\\Dell\\Desktop\\Tutorials\\Vinutha-Vijayakumar\\Github\\Data-Manipulation-Cleaning\\Book.csv')\n"
   ]
  },
  {
   "cell_type": "code",
   "execution_count": 2,
   "metadata": {},
   "outputs": [
    {
     "name": "stdout",
     "output_type": "stream",
     "text": [
      "   Identifier             Edition Statement      Place of Publication   \n",
      "0         206                           NaN                    London  \\\n",
      "1         216                           NaN  London; Virtue & Yorston   \n",
      "2         218                           NaN                    London   \n",
      "3         472                           NaN                    London   \n",
      "4         480  A new edition, revised, etc.                    London   \n",
      "\n",
      "  Date of Publication              Publisher   \n",
      "0         1879 [1878]       S. Tinsley & Co.  \\\n",
      "1                1868           Virtue & Co.   \n",
      "2                1869  Bradbury, Evans & Co.   \n",
      "3                1851          James Darling   \n",
      "4                1857   Wertheim & Macintosh   \n",
      "\n",
      "                                               Title     Author   \n",
      "0                  Walter Forbes. [A novel.] By A. A      A. A.  \\\n",
      "1  All for Greed. [A novel. The dedication signed...  A., A. A.   \n",
      "2  Love the Avenger. By the author of “All for Gr...  A., A. A.   \n",
      "3  Welsh Sketches, chiefly ecclesiastical, to the...  A., E. S.   \n",
      "4  [The World in which I live, and my place in it...  A., E. S.   \n",
      "\n",
      "                                   Contributors  Corporate Author   \n",
      "0                               FORBES, Walter.               NaN  \\\n",
      "1  BLAZE DE BURY, Marie Pauline Rose - Baroness               NaN   \n",
      "2  BLAZE DE BURY, Marie Pauline Rose - Baroness               NaN   \n",
      "3                   Appleyard, Ernest Silvanus.               NaN   \n",
      "4                           BROOME, John Henry.               NaN   \n",
      "\n",
      "   Corporate Contributors Former owner  Engraver Issuance type   \n",
      "0                     NaN          NaN       NaN   monographic  \\\n",
      "1                     NaN          NaN       NaN   monographic   \n",
      "2                     NaN          NaN       NaN   monographic   \n",
      "3                     NaN          NaN       NaN   monographic   \n",
      "4                     NaN          NaN       NaN   monographic   \n",
      "\n",
      "                                          Flickr URL   \n",
      "0  http://www.flickr.com/photos/britishlibrary/ta...  \\\n",
      "1  http://www.flickr.com/photos/britishlibrary/ta...   \n",
      "2  http://www.flickr.com/photos/britishlibrary/ta...   \n",
      "3  http://www.flickr.com/photos/britishlibrary/ta...   \n",
      "4  http://www.flickr.com/photos/britishlibrary/ta...   \n",
      "\n",
      "                            Shelfmarks  \n",
      "0    British Library HMNTS 12641.b.30.  \n",
      "1    British Library HMNTS 12626.cc.2.  \n",
      "2    British Library HMNTS 12625.dd.1.  \n",
      "3  British Library HMNTS 10369.bbb.15.  \n",
      "4     British Library HMNTS 9007.d.28.  \n"
     ]
    }
   ],
   "source": [
    "print(df.head(5))"
   ]
  },
  {
   "cell_type": "markdown",
   "metadata": {},
   "source": [
    "2. Remove the following columns from the data_frame\n",
    "'Edition Statement', \n",
    "'Corporate Author', \n",
    "'Corporate Contributors', \n",
    "'Former owner', \n",
    "'Engraver', \n",
    "'Contributors', \n",
    "'Issuance type', \n",
    "'Shelfmarks'"
   ]
  },
  {
   "cell_type": "code",
   "execution_count": 3,
   "metadata": {},
   "outputs": [],
   "source": [
    "columns_to_remove = [\n",
    "    'Edition Statement',\n",
    "    'Corporate Author',\n",
    "    'Corporate Contributors',\n",
    "    'Former owner',\n",
    "    'Engraver',\n",
    "    'Contributors',\n",
    "    'Issuance type',\n",
    "    'Shelfmarks'\n",
    "]\n",
    "df.drop(columns=columns_to_remove, inplace=True)"
   ]
  },
  {
   "cell_type": "code",
   "execution_count": 4,
   "metadata": {},
   "outputs": [
    {
     "name": "stdout",
     "output_type": "stream",
     "text": [
      "   Identifier      Place of Publication Date of Publication   \n",
      "0         206                    London         1879 [1878]  \\\n",
      "1         216  London; Virtue & Yorston                1868   \n",
      "2         218                    London                1869   \n",
      "3         472                    London                1851   \n",
      "4         480                    London                1857   \n",
      "\n",
      "               Publisher                                              Title   \n",
      "0       S. Tinsley & Co.                  Walter Forbes. [A novel.] By A. A  \\\n",
      "1           Virtue & Co.  All for Greed. [A novel. The dedication signed...   \n",
      "2  Bradbury, Evans & Co.  Love the Avenger. By the author of “All for Gr...   \n",
      "3          James Darling  Welsh Sketches, chiefly ecclesiastical, to the...   \n",
      "4   Wertheim & Macintosh  [The World in which I live, and my place in it...   \n",
      "\n",
      "      Author                                         Flickr URL  \n",
      "0      A. A.  http://www.flickr.com/photos/britishlibrary/ta...  \n",
      "1  A., A. A.  http://www.flickr.com/photos/britishlibrary/ta...  \n",
      "2  A., A. A.  http://www.flickr.com/photos/britishlibrary/ta...  \n",
      "3  A., E. S.  http://www.flickr.com/photos/britishlibrary/ta...  \n",
      "4  A., E. S.  http://www.flickr.com/photos/britishlibrary/ta...  \n"
     ]
    }
   ],
   "source": [
    "print(df.head(5))"
   ]
  },
  {
   "cell_type": "markdown",
   "metadata": {},
   "source": [
    "3. Check the content of the column- 'Date of Publication' and define a function to clean the value \n",
    " Examples: \n",
    "1879 [1878] to: 1879\n",
    "[1858.] to 1858"
   ]
  },
  {
   "cell_type": "code",
   "execution_count": 5,
   "metadata": {},
   "outputs": [],
   "source": [
    "import re\n",
    "import pandas as pd\n",
    "import numpy as np\n",
    "\n",
    "def clean_date_of_publication(date):\n",
    "    if pd.notna(date) and isinstance(date, str):\n",
    "        # Remove any square brackets.\n",
    "        date = date.replace(\"[\", \"\").replace(\"]\", \"\")\n",
    "\n",
    "        # Remove any periods at the end of the string.\n",
    "        date = date.rstrip(\".\")\n",
    "\n",
    "        # If the date is in the format of \"1879 [1878]\", extract only the first year.\n",
    "        match = re.search(r'\\d{4}', date)\n",
    "        if match:\n",
    "            date = match.group()\n",
    "\n",
    "    return date\n",
    "\n",
    "# Apply the cleaning function to the 'Date of Publication' column\n",
    "df['Date of Publication'] = df['Date of Publication'].apply(clean_date_of_publication)\n",
    "\n"
   ]
  },
  {
   "cell_type": "code",
   "execution_count": 6,
   "metadata": {},
   "outputs": [
    {
     "name": "stdout",
     "output_type": "stream",
     "text": [
      "0     1879\n",
      "1     1868\n",
      "2     1869\n",
      "3     1851\n",
      "4     1857\n",
      "5     1875\n",
      "6     1872\n",
      "7      NaN\n",
      "8     1676\n",
      "9     1679\n",
      "10    1802\n",
      "11    1859\n",
      "12    1888\n",
      "13    1839\n",
      "14    1897\n",
      "15    1865\n",
      "16    1860\n",
      "17    1873\n",
      "18    1866\n",
      "19    1899\n",
      "20    1814\n",
      "21    1820\n",
      "22    1800\n",
      "23    1847\n",
      "24    1897\n",
      "25    1897\n",
      "26    1893\n",
      "27    1805\n",
      "28    1837\n",
      "29    1896\n",
      "30    1898\n",
      "31    1899\n",
      "32    1892\n",
      "33    1894\n",
      "34    1894\n",
      "35     NaN\n",
      "36    1899\n",
      "37    1885\n",
      "38    1860\n",
      "39    1846\n",
      "40    1893\n",
      "41    1894\n",
      "42    1817\n",
      "43    1816\n",
      "44    1817\n",
      "45    1897\n",
      "46    1833\n",
      "47    1804\n",
      "48    1859\n",
      "49    1777\n",
      "Name: Date of Publication, dtype: object\n"
     ]
    }
   ],
   "source": [
    "print(df[\"Date of Publication\"].head(50))"
   ]
  },
  {
   "cell_type": "markdown",
   "metadata": {},
   "source": [
    "4. Check the content of the column- ' Author' and define a function to clean the value. And split the name to first name and last name."
   ]
  },
  {
   "cell_type": "code",
   "execution_count": 7,
   "metadata": {},
   "outputs": [],
   "source": [
    "import pandas as pd\n",
    "import re\n",
    "\n",
    "# Define a function to clean and split the author names\n",
    "def clean_and_split_author_name(author):\n",
    "    if isinstance(author, str):\n",
    "        # Remove any special characters, punctuation, and extra spaces\n",
    "        cleaned_author = re.sub(r'[^a-zA-Z\\s]', '', author)\n",
    "\n",
    "        # Split the cleaned name into words\n",
    "        words = cleaned_author.split()\n",
    "\n",
    "        # Handle cases where there are multiple words in the author name\n",
    "        if len(words) >= 2:\n",
    "            first_name = words[0]\n",
    "            last_name = ' '.join(words[1:])\n",
    "        else:\n",
    "            first_name = words[0]\n",
    "            last_name = None\n",
    "\n",
    "        return {'First Name': first_name, 'Last Name': last_name}\n",
    "    else:\n",
    "        return {'First Name': None, 'Last Name': None}\n",
    "\n",
    "# Apply the cleaning and splitting function to the \"Author\" column\n",
    "df['Author Info'] = df['Author'].apply(clean_and_split_author_name)\n",
    "\n",
    "# Expand the dictionary into separate \"First Name\" and \"Last Name\" columns\n",
    "df[['First Name', 'Last Name']] = pd.DataFrame(df['Author Info'].tolist())\n",
    "\n"
   ]
  },
  {
   "cell_type": "code",
   "execution_count": 8,
   "metadata": {},
   "outputs": [
    {
     "name": "stdout",
     "output_type": "stream",
     "text": [
      "                                               Author First Name   \n",
      "0                                               A. A.          A  \\\n",
      "1                                           A., A. A.          A   \n",
      "2                                           A., A. A.          A   \n",
      "3                                           A., E. S.          A   \n",
      "4                                           A., E. S.          A   \n",
      "5                                           A., E. S.          A   \n",
      "6                                           A., F. E.          A   \n",
      "7                                       A., J.|A., J.          A   \n",
      "8                                              Remaʿ.       Rema   \n",
      "9                                              A., T.          A   \n",
      "10                                                NaN       None   \n",
      "11                                       AALL, Jacob.       AALL   \n",
      "12  AAR, Ermanno - pseud. [i.e. Luigi Giuseppe Oro...        AAR   \n",
      "13                                                NaN       None   \n",
      "14                          ABATE, Giovanni Agostino.      ABATE   \n",
      "15                                  ABATI, Francesco.      ABATI   \n",
      "16                      ABBADIE, Antoine Thompson d'.    ABBADIE   \n",
      "17                      ABBADIE, Antoine Thompson d'.    ABBADIE   \n",
      "18  ABBAD Y LASIERRA, Agustín Íñigo - Bishop of...      ABBAD   \n",
      "19                                   ABBATT, William.     ABBATT   \n",
      "\n",
      "                                            Last Name  \n",
      "0                                                   A  \n",
      "1                                                 A A  \n",
      "2                                                 A A  \n",
      "3                                                 E S  \n",
      "4                                                 E S  \n",
      "5                                                 E S  \n",
      "6                                                 F E  \n",
      "7                                                JA J  \n",
      "8                                                None  \n",
      "9                                                   T  \n",
      "10                                               None  \n",
      "11                                              Jacob  \n",
      "12  Ermanno pseud ie Luigi Giuseppe Oronzo Mariano...  \n",
      "13                                               None  \n",
      "14                                  Giovanni Agostino  \n",
      "15                                          Francesco  \n",
      "16                                 Antoine Thompson d  \n",
      "17                                 Antoine Thompson d  \n",
      "18       Y LASIERRA Agustin Inigo Bishop of Barbastro  \n",
      "19                                            William  \n"
     ]
    }
   ],
   "source": [
    "print(df[[\"Author\", \"First Name\", \"Last Name\"]].head(20))\n"
   ]
  },
  {
   "cell_type": "markdown",
   "metadata": {},
   "source": [
    "5. Check the content of the column- 'Title' and define a function to clean the value .\n",
    "Examples:\n",
    " Walter Forbes. [A novel.] By A. A to: Walter Forbes\n",
    " Love the Avenger. By the author of 'All for Gr.. to Love The Avenger "
   ]
  },
  {
   "cell_type": "code",
   "execution_count": 9,
   "metadata": {},
   "outputs": [],
   "source": [
    "import pandas as pd\n",
    "\n",
    "# Define a function to clean the \"Title\" column\n",
    "def clean_title(title):\n",
    "    # Remove square brackets without removing content inside them\n",
    "    title = title.replace('[', '').replace(']', '')\n",
    "    \n",
    "    # Find the position of the first occurrence of a character\n",
    "    # other than letters, numbers, spaces, or hyphens\n",
    "    match = re.search(r'[^a-zA-Z0-9\\s\\-]', title)\n",
    "    \n",
    "    if match:\n",
    "        # Extract the substring before the first occurrence of that character\n",
    "        title = title[:match.start()]\n",
    "    \n",
    "    # Remove single quotes and extra spaces\n",
    "    title = title.strip().replace('.', '').replace(\"'\", \"\")\n",
    "    \n",
    "    return title\n",
    "\n",
    "# Apply the cleaning function to the \"Title\" column\n",
    "df['Title'] = df['Title'].apply(clean_title)\n",
    "\n"
   ]
  },
  {
   "cell_type": "code",
   "execution_count": 10,
   "metadata": {},
   "outputs": [
    {
     "name": "stdout",
     "output_type": "stream",
     "text": [
      "0                                         Walter Forbes\n",
      "1                                         All for Greed\n",
      "2                                      Love the Avenger\n",
      "3                                        Welsh Sketches\n",
      "4                             The World in which I live\n",
      "5                             The World in which I live\n",
      "6                                             Lagonells\n",
      "7                                  The Coming of Spring\n",
      "8               A Warning to the inhabitants of England\n",
      "9                                A Satyr against Vertue\n",
      "10               An Account of the many and great Loans\n",
      "11    Erindringer som Bidrag til Norges Historie fra...\n",
      "12                         Gli Studi storici in terra d\n",
      "13                                           De Aardbol\n",
      "14                   Cronache Savonesi dal 1500 al 1570\n",
      "15                                              See-Saw\n",
      "16                                                   Ge\n",
      "17                                     With eleven maps\n",
      "18                                      Historia geogra\n",
      "19                         The Crisis of the Revolution\n",
      "Name: Title, dtype: object\n"
     ]
    }
   ],
   "source": [
    "# Display the cleaned DataFrame\n",
    "print(df['Title'].head(20))"
   ]
  },
  {
   "cell_type": "markdown",
   "metadata": {},
   "source": [
    "6. Check the content of the column- 'Place of Publication' and define a function to clean the value. E.g., the original value: London; Virtue & Yorston to: London."
   ]
  },
  {
   "cell_type": "code",
   "execution_count": 11,
   "metadata": {},
   "outputs": [
    {
     "name": "stdout",
     "output_type": "stream",
     "text": [
      "0                    London\n",
      "1                    London\n",
      "2                    London\n",
      "3                    London\n",
      "4                    London\n",
      "               ...         \n",
      "8282                 London\n",
      "8283                  Derby\n",
      "8284                 London\n",
      "8285    Newcastle upon Tyne\n",
      "8286                 London\n",
      "Name: Place of Publication, Length: 8287, dtype: object\n"
     ]
    }
   ],
   "source": [
    "import pandas as pd\n",
    "\n",
    "# Define a function to clean the \"Place of Publication\" column\n",
    "def clean_place_of_publication(place):\n",
    "    # Split the string by semicolon, comma, or square bracket and keep the first part\n",
    "    parts = re.split(r'[;,]', place)\n",
    "    cleaned_place = parts[0].strip()\n",
    "    \n",
    "    return cleaned_place\n",
    "\n",
    "# Apply the cleaning function to the \"Place of Publication\" column\n",
    "df['Place of Publication'] = df['Place of Publication'].apply(clean_place_of_publication)\n",
    "\n",
    "# Display the cleaned DataFrame\n",
    "print(df['Place of Publication'])\n"
   ]
  }
 ],
 "metadata": {
  "kernelspec": {
   "display_name": "Python 3",
   "language": "python",
   "name": "python3"
  },
  "language_info": {
   "codemirror_mode": {
    "name": "ipython",
    "version": 3
   },
   "file_extension": ".py",
   "mimetype": "text/x-python",
   "name": "python",
   "nbconvert_exporter": "python",
   "pygments_lexer": "ipython3",
   "version": "3.10.2"
  },
  "orig_nbformat": 4
 },
 "nbformat": 4,
 "nbformat_minor": 2
}
